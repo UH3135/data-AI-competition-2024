{
 "cells": [
  {
   "cell_type": "markdown",
   "metadata": {},
   "source": [
    "- 임베딩이란\n",
    "    - 데이터를 벡터값으로 변환하는 작업\n",
    "- 임베딩 기법은 무엇이 있는가\n",
    "    - word2vec\n",
    "    - GloVe, Swivel\n",
    "    - BERT, ELMo, GPT\n",
    "- 질문-답변 쌍에서 가장 적합한 임베딩 기법\n",
    "    - BERT\n",
    "        - 문맥을 고려하여 임베딩을 생성"
   ]
  }
 ],
 "metadata": {
  "language_info": {
   "name": "python"
  }
 },
 "nbformat": 4,
 "nbformat_minor": 2
}
